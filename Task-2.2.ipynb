{
 "cells": [
  {
   "cell_type": "markdown",
   "id": "07febb7e",
   "metadata": {},
   "source": [
    "# Task 2.2"
   ]
  },
  {
   "cell_type": "code",
   "execution_count": 1,
   "id": "76d6e273",
   "metadata": {},
   "outputs": [
    {
     "name": "stdout",
     "output_type": "stream",
     "text": [
      "Requirement already satisfied: gurobipy in c:\\users\\perpendicooler\\anaconda3\\lib\\site-packages (11.0.0)\n"
     ]
    }
   ],
   "source": [
    "!pip install gurobipy"
   ]
  },
  {
   "cell_type": "code",
   "execution_count": 3,
   "id": "318e00ad",
   "metadata": {},
   "outputs": [
    {
     "name": "stdout",
     "output_type": "stream",
     "text": [
      "                     From          To    Distance\n",
      "0                 Jakubów      Cegłów    8.884430\n",
      "1     Rejon ulicy Saperów   Swojczyce    9.315537\n",
      "2               Paprotnia     Korczew   11.504595\n",
      "3                  Żurowa   Siedliska   13.365827\n",
      "4               Węgorzewo     Srokowo   13.940175\n",
      "...                   ...         ...         ...\n",
      "1220               Człopa  Hrubieszów  589.668344\n",
      "1221             Pruchnik   Biały Bór  590.189660\n",
      "1222               Ostrów   Biały Bór  597.378340\n",
      "1223             Pruchnik      Cewice  599.645226\n",
      "1224               Ostrów      Cewice  604.071037\n",
      "\n",
      "[1225 rows x 3 columns]\n"
     ]
    }
   ],
   "source": [
    "import pandas as pd\n",
    "\n",
    "# Replace 'your_file.xlsx' with the path to your Excel file\n",
    "file_path = r\"C:\\Users\\Perpendicooler\\poland_50_cities_pairwise_distances.xlsx\"\n",
    "\n",
    "# Read the Excel file into a DataFrame\n",
    "df = pd.read_excel(file_path)\n",
    "\n",
    "# Display the DataFrame\n",
    "print(df)"
   ]
  },
  {
   "cell_type": "markdown",
   "id": "bca9c459",
   "metadata": {},
   "source": [
    "# We wrote this code from (https://www.gurobi.com/jupyter_models/traveling-salesman/) here.."
   ]
  },
  {
   "cell_type": "markdown",
   "id": "94864ef5",
   "metadata": {},
   "source": [
    "# Lazy Row Generation\n",
    "**The second approach involves a \"lazy row generation\" version, where constraints\n",
    "are added progressively until a valid tour is found. This method is known for\n",
    "its efficiency in solving large instances.**\n"
   ]
  },
  {
   "cell_type": "markdown",
   "id": "edab3e69",
   "metadata": {},
   "source": [
    "**The lazy row generation version was implemented using Gurobi's lazy constraints with inspiration from the Gurobi example Gurobi-example.**\n"
   ]
  },
  {
   "cell_type": "markdown",
   "id": "669929a7",
   "metadata": {},
   "source": [
    "***The following function calculates the distance for 50 each pair of cities. Since\n",
    "we are solving the symmetric traveling salesman problem, we use combinations\n",
    "of cities***"
   ]
  },
  {
   "cell_type": "markdown",
   "id": "5133face",
   "metadata": {},
   "source": [
    "***We now write the model for the TSP, by defining decision variables, constraints,\n",
    "and objective function. Because this is the symmetric traveling salesman problem, we can make it more efficient by setting the object x[j,i] to x[i,j], instead\n",
    "of a constraint***\n"
   ]
  },
  {
   "cell_type": "code",
   "execution_count": 12,
   "id": "e2d20b42",
   "metadata": {
    "scrolled": true
   },
   "outputs": [
    {
     "name": "stdout",
     "output_type": "stream",
     "text": [
      "Gurobi Optimizer version 11.0.0 build v11.0.0rc2 (win64 - Windows 11+.0 (22631.2))\n",
      "\n",
      "CPU model: AMD Ryzen 3 4300U with Radeon Graphics, instruction set [SSE2|AVX|AVX2]\n",
      "Thread count: 4 physical cores, 4 logical processors, using up to 4 threads\n",
      "\n",
      "Optimize a model with 50 rows, 1225 columns and 2450 nonzeros\n",
      "Model fingerprint: 0xe0aab684\n",
      "Variable types: 0 continuous, 1225 integer (1225 binary)\n",
      "Coefficient statistics:\n",
      "  Matrix range     [1e+00, 1e+00]\n",
      "  Objective range  [9e+00, 6e+02]\n",
      "  Bounds range     [1e+00, 1e+00]\n",
      "  RHS range        [2e+00, 2e+00]\n",
      "Found heuristic solution: objective 13005.316269\n",
      "Presolve time: 0.00s\n",
      "Presolved: 50 rows, 1225 columns, 2450 nonzeros\n",
      "Variable types: 0 continuous, 1225 integer (1225 binary)\n",
      "\n",
      "Root relaxation: objective 2.687795e+03, 88 iterations, 0.00 seconds (0.00 work units)\n",
      "\n",
      "    Nodes    |    Current Node    |     Objective Bounds      |     Work\n",
      " Expl Unexpl |  Obj  Depth IntInf | Incumbent    BestBd   Gap | It/Node Time\n",
      "\n",
      "     0     0 2687.79520    0   12 13005.3163 2687.79520  79.3%     -    0s\n",
      "H    0     0                    2810.0550440 2687.79520  4.35%     -    0s\n",
      "H    0     0                    2786.0215726 2687.79520  3.53%     -    0s\n",
      "H    0     0                    2698.1013991 2687.79520  0.38%     -    0s\n",
      "\n",
      "Cutting planes:\n",
      "  Zero half: 3\n",
      "\n",
      "Explored 1 nodes (88 simplex iterations) in 0.06 seconds (0.01 work units)\n",
      "Thread count was 4 (of 4 available processors)\n",
      "\n",
      "Solution count 4: 2698.1 2786.02 2810.06 13005.3 \n",
      "\n",
      "Optimal solution found (tolerance 1.00e-04)\n",
      "Best objective 2.698101399109e+03, best bound 2.698101399109e+03, gap 0.0000%\n",
      "Tour: [38, 7, 45, 14, 40, 9, 3, 27, 49, 8, 34, 25, 21, 22, 9, 49, 33, 46, 37, 14, 1, 29, 21, 27, 1, 20, 48, 6, 34, 45, 15, 38, 25, 35, 16, 29, 31, 35, 5, 22, 43, 28, 40, 39, 10, 32, 37, 10, 19, 19, 36, 17, 23, 11, 43, 6, 12, 11, 18, 42, 46, 20, 47, 15, 13, 42, 26, 30, 2, 48, 44, 26, 18, 0, 47, 3, 0, 13, 30, 36, 4, 4, 12, 39, 32, 23, 8, 33, 28, 31, 24, 41, 24, 44, 41, 2, 16, 5, 17, 7]\n"
     ]
    }
   ],
   "source": [
    "import pandas as pd\n",
    "import gurobipy as gp\n",
    "from gurobipy import GRB\n",
    "\n",
    "# Load data from Excel\n",
    "file_path = r\"C:\\Users\\Perpendicooler\\poland_50_cities_pairwise_distances.xlsx\"\n",
    "data = pd.read_excel(file_path)\n",
    "\n",
    "# Extract city names and distances\n",
    "cities = set(data[\"From\"].tolist() + data[\"To\"].tolist())\n",
    "city_index = {city: i for i, city in enumerate(cities)}\n",
    "distances = {(city_index[row.From], city_index[row.To]): row.Distance for row in data.itertuples()}\n",
    "\n",
    "# Create a Gurobi model\n",
    "m = gp.Model()\n",
    "\n",
    "# Variables: is city 'i' adjacent to city 'j' on the tour?\n",
    "vars = m.addVars(distances.keys(), obj=distances, vtype=GRB.BINARY, name='x')\n",
    "\n",
    "# Symmetric direction: Copy the object\n",
    "keys = list(vars.keys())  # Create a list of keys\n",
    "for i, j in keys:\n",
    "    vars[j, i] = vars[i, j]  # edge in opposite direction\n",
    "\n",
    "# Constraints: two edges incident to each city\n",
    "capitals = [i for i in range(len(cities))]\n",
    "cons = m.addConstrs(vars.sum(c, '*') == 2 for c in capitals)\n",
    "\n",
    "# Optimize the model\n",
    "m.optimize()\n",
    "\n",
    "# Print the tour\n",
    "tour = [i for i, j in vars.keys() if vars[i, j].X > 0.5]\n",
    "print(\"Tour:\", tour)\n"
   ]
  },
  {
   "cell_type": "markdown",
   "id": "170d3037",
   "metadata": {},
   "source": [
    "**The Gurobi Optimizer is solving a mathematical optimization problem with 50 rows, 1225 columns, and 2450 nonzeros. The model involves both continuous and integer variables. The solver initially found a heuristic solution with an objective value of 13005.316269.**\n",
    "\n",
    "**After presolving the model, the optimization process explores nodes in a search tree, refining the solution. The final optimal solution is found with an objective value of 2.698101399109e+03, and the solver reports a 0% optimality gap. The sequence of decisions forming the optimal solution is provided as a \"tour.\"**"
   ]
  },
  {
   "cell_type": "code",
   "execution_count": null,
   "id": "72531ec5",
   "metadata": {},
   "outputs": [],
   "source": []
  },
  {
   "cell_type": "markdown",
   "id": "ae436400",
   "metadata": {},
   "source": [
    "Adding Lazy Constraints"
   ]
  },
  {
   "cell_type": "code",
   "execution_count": 22,
   "id": "e0d7ac19",
   "metadata": {},
   "outputs": [
    {
     "name": "stdout",
     "output_type": "stream",
     "text": [
      "Gurobi Optimizer version 11.0.0 build v11.0.0rc2 (win64 - Windows 11+.0 (22631.2))\n",
      "\n",
      "CPU model: AMD Ryzen 3 4300U with Radeon Graphics, instruction set [SSE2|AVX|AVX2]\n",
      "Thread count: 4 physical cores, 4 logical processors, using up to 4 threads\n",
      "\n",
      "Optimize a model with 50 rows, 1225 columns and 2450 nonzeros\n",
      "Model fingerprint: 0xe0aab684\n",
      "Variable types: 0 continuous, 1225 integer (1225 binary)\n",
      "Coefficient statistics:\n",
      "  Matrix range     [1e+00, 1e+00]\n",
      "  Objective range  [9e+00, 6e+02]\n",
      "  Bounds range     [1e+00, 1e+00]\n",
      "  RHS range        [2e+00, 2e+00]\n",
      "Presolved: 50 rows, 1225 columns, 2450 nonzeros\n",
      "\n",
      "Continuing optimization...\n",
      "\n",
      "\n",
      "Cutting planes:\n",
      "  Zero half: 3\n",
      "\n",
      "Explored 1 nodes (88 simplex iterations) in 0.07 seconds (0.00 work units)\n",
      "Thread count was 4 (of 4 available processors)\n",
      "\n",
      "Solution count 4: 2698.1 2786.02 2810.06 13005.3 \n",
      "\n",
      "Optimal solution found (tolerance 1.00e-04)\n",
      "Best objective 2.698101399109e+03, best bound 2.698101399109e+03, gap 0.0000%\n",
      "\n",
      "User-callback calls 30, time in user-callback 0.00 sec\n"
     ]
    }
   ],
   "source": [
    "# Callback - use lazy constraints to eliminate sub-tours\n",
    "def subtourelim(model, where):\n",
    "    if where == GRB.Callback.MIPSOL:\n",
    "        # make a list of edges selected in the solution\n",
    "        vals = model.cbGetSolution(model._vars)\n",
    "        selected = gp.tuplelist((i, j) for i, j in model._vars.keys() if vals[i, j] > 0.5)\n",
    "        # find the shortest cycle in the selected edge list\n",
    "        tour = subtour(selected)\n",
    "        if len(tour) < len(capitals):\n",
    "            # add subtour elimination constr. for every pair of cities in subtour\n",
    "            model.cbLazy(gp.quicksum(model._vars[i, j] for i, j in combinations(tour, 2)) <= len(tour) - 1)\n",
    "\n",
    "# Given a tuplelist of edges, find the shortest subtour\n",
    "def subtour(edges):\n",
    "    unvisited = capitals[:]\n",
    "    cycle = capitals[:]  # Dummy - guaranteed to be replaced\n",
    "    while unvisited:  # true if list is non-empty\n",
    "        thiscycle = []\n",
    "        neighbors = unvisited\n",
    "        while neighbors:\n",
    "            current = neighbors[0]\n",
    "            thiscycle.append(current)\n",
    "            unvisited.remove(current)\n",
    "            neighbors = [j for i, j in edges.select(current, '*') if j in unvisited]\n",
    "        if len(thiscycle) <= len(cycle):\n",
    "            cycle = thiscycle  # New shortest subtour\n",
    "    return cycle\n",
    "\n",
    "# Set the callback function\n",
    "m._vars = vars\n",
    "m.Params.LazyConstraints = 1\n",
    "m.optimize(subtourelim)\n"
   ]
  },
  {
   "cell_type": "markdown",
   "id": "a5faa7e7",
   "metadata": {},
   "source": [
    "**The model involves both continuous and integer variables. After presolving, the solver continues optimization and applies cutting planes. It explores one node, finding four solutions. The optimal solution is found with an objective value of 2.698101399109e+03 and a 0% optimality gap. Additionally, user-callback functions were called 30 times during the optimization process.**"
   ]
  }
 ],
 "metadata": {
  "kernelspec": {
   "display_name": "Python 3 (ipykernel)",
   "language": "python",
   "name": "python3"
  },
  "language_info": {
   "codemirror_mode": {
    "name": "ipython",
    "version": 3
   },
   "file_extension": ".py",
   "mimetype": "text/x-python",
   "name": "python",
   "nbconvert_exporter": "python",
   "pygments_lexer": "ipython3",
   "version": "3.11.5"
  }
 },
 "nbformat": 4,
 "nbformat_minor": 5
}
